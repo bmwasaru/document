{
 "cells": [
  {
   "cell_type": "code",
   "execution_count": 1,
   "metadata": {},
   "outputs": [],
   "source": [
    "from sqlalchemy import create_engine"
   ]
  },
  {
   "cell_type": "code",
   "execution_count": 2,
   "metadata": {},
   "outputs": [],
   "source": [
    "engine = create_engine('sqlite:///:memory:', echo=True)"
   ]
  },
  {
   "cell_type": "code",
   "execution_count": 3,
   "metadata": {},
   "outputs": [],
   "source": [
    "from sqlalchemy.ext.declarative import declarative_base"
   ]
  },
  {
   "cell_type": "code",
   "execution_count": 4,
   "metadata": {},
   "outputs": [],
   "source": [
    "Base = declarative_base()"
   ]
  },
  {
   "cell_type": "code",
   "execution_count": 5,
   "metadata": {},
   "outputs": [],
   "source": [
    "from sqlalchemy import Column, Integer, Text, JSON"
   ]
  },
  {
   "cell_type": "code",
   "execution_count": 6,
   "metadata": {},
   "outputs": [],
   "source": [
    "class Document(Base):\n",
    "    \"\"\"Simple document storage.\n",
    "    API\n",
    "    ---\n",
    "    CREATE\n",
    "        doc = Document(key=\"britone\", type=\"person\", data={\"email\": \"britone@example.com})\n",
    "        print(doc.key)\n",
    "        print(doc.type)\n",
    "        print(doc.data[\"email\"])\n",
    "    READ\n",
    "        doc = Document.find(\"britone\")\n",
    "        people = Document.search(type=\"person\")\n",
    "        managers = Document.search(type=\"person\", role=\"manager\")\n",
    "    UPDATE:\n",
    "        doc.update(email=\"britone@new-domain.com\")\n",
    "        doc.save()\n",
    "    DELETE:\n",
    "        doc.delete()\n",
    "    \"\"\"\n",
    "    \n",
    "    __tablename__ = \"document\"\n",
    "    \n",
    "    id = Column(Integer, primary_key=True)\n",
    "    key = Column(Text, nullable=False, unique=True)\n",
    "    type = Column(Text, nullable=False)\n",
    "    data = Column(JSON)\n",
    "\n",
    "    def __init__(self, type, key, data=None):\n",
    "        \"\"\"Creates a new Document with specified key and type.\n",
    "        If key is None, a unique key is automatically generated.\n",
    "        \"\"\"\n",
    "        self.key = key or self._generate_unique_key()\n",
    "        self.type = type\n",
    "        self.revision = 0\n",
    "        self.data = data or {}\n",
    "        \n",
    "    def _generate_unique_key(self):\n",
    "        \"\"\"Generates a unique random key using UUID.\n",
    "        \"\"\"\n",
    "        return uuid.uuid4().hex\n",
    "\n",
    "    def update(self, **kwargs):\n",
    "        self.data.update(**kwargs)\n",
    "\n",
    "    def save(self):\n",
    "        db.session.add(self)\n",
    "        db.session.commit()\n",
    "\n",
    "    def delete(self):\n",
    "        db.session.delete(self)\n",
    "        db.session.commit()\n",
    "\n",
    "    @staticmethod\n",
    "    def find(key, type=None):\n",
    "        \"\"\"Find the document with the specified key and optionally type.\n",
    "        \"\"\"\n",
    "        q = Document.query.filter_by(key)\n",
    "        if type:\n",
    "            q.filter_by(type=type)\n",
    "        return q.first()\n",
    "\n",
    "    @staticmethod\n",
    "    def search(type, **kwargs):\n",
    "        \"\"\"Searchs for all documents of specified type matching all the optional constraints\n",
    "        specified by keyword arguments.\n",
    "            Document.search(\"user\", email=\"britone@example.com\")\n",
    "        \"\"\"\n",
    "        q = Document.query.filter_by(type=type)\n",
    "        for name, value in kwargs.items():\n",
    "            q = q.filter(Document.data[name].astext == value)\n",
    "        return q.all()\n",
    "\n",
    "    def __repr__(self):\n",
    "        return \"<Document({!r})>\".format(self.key)"
   ]
  },
  {
   "cell_type": "code",
   "execution_count": 10,
   "metadata": {},
   "outputs": [
    {
     "name": "stdout",
     "output_type": "stream",
     "text": [
      "2020-08-03 09:13:07,238 INFO sqlalchemy.engine.base.Engine SELECT CAST('test plain returns' AS VARCHAR(60)) AS anon_1\n",
      "2020-08-03 09:13:07,239 INFO sqlalchemy.engine.base.Engine ()\n",
      "2020-08-03 09:13:07,242 INFO sqlalchemy.engine.base.Engine SELECT CAST('test unicode returns' AS VARCHAR(60)) AS anon_1\n",
      "2020-08-03 09:13:07,243 INFO sqlalchemy.engine.base.Engine ()\n",
      "2020-08-03 09:13:07,246 INFO sqlalchemy.engine.base.Engine PRAGMA main.table_info(\"document\")\n",
      "2020-08-03 09:13:07,247 INFO sqlalchemy.engine.base.Engine ()\n",
      "2020-08-03 09:13:07,249 INFO sqlalchemy.engine.base.Engine PRAGMA temp.table_info(\"document\")\n",
      "2020-08-03 09:13:07,250 INFO sqlalchemy.engine.base.Engine ()\n",
      "2020-08-03 09:13:07,253 INFO sqlalchemy.engine.base.Engine \n",
      "CREATE TABLE document (\n",
      "\tid INTEGER NOT NULL, \n",
      "\t\"key\" TEXT NOT NULL, \n",
      "\ttype TEXT NOT NULL, \n",
      "\tdata JSON, \n",
      "\tPRIMARY KEY (id), \n",
      "\tUNIQUE (\"key\")\n",
      ")\n",
      "\n",
      "\n",
      "2020-08-03 09:13:07,254 INFO sqlalchemy.engine.base.Engine ()\n",
      "2020-08-03 09:13:07,256 INFO sqlalchemy.engine.base.Engine COMMIT\n"
     ]
    }
   ],
   "source": [
    "Base.metadata.create_all(engine)"
   ]
  },
  {
   "cell_type": "code",
   "execution_count": 7,
   "metadata": {},
   "outputs": [],
   "source": [
    "doc = Document(key=\"britone\", type=\"person\", data={\"email\": \"britone@example.com\"})"
   ]
  },
  {
   "cell_type": "code",
   "execution_count": 9,
   "metadata": {},
   "outputs": [
    {
     "data": {
      "text/plain": [
       "'britone'"
      ]
     },
     "execution_count": 9,
     "metadata": {},
     "output_type": "execute_result"
    }
   ],
   "source": [
    "doc.key"
   ]
  },
  {
   "cell_type": "code",
   "execution_count": null,
   "metadata": {},
   "outputs": [],
   "source": []
  }
 ],
 "metadata": {
  "kernelspec": {
   "display_name": "Python 3",
   "language": "python",
   "name": "python3"
  },
  "language_info": {
   "codemirror_mode": {
    "name": "ipython",
    "version": 3
   },
   "file_extension": ".py",
   "mimetype": "text/x-python",
   "name": "python",
   "nbconvert_exporter": "python",
   "pygments_lexer": "ipython3",
   "version": "3.8.5"
  }
 },
 "nbformat": 4,
 "nbformat_minor": 4
}
